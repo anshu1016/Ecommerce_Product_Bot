{
 "cells": [
  {
   "cell_type": "code",
   "execution_count": 1,
   "id": "37cf62cc",
   "metadata": {},
   "outputs": [
    {
     "name": "stdout",
     "output_type": "stream",
     "text": [
      "hello world\n"
     ]
    }
   ],
   "source": [
    "print(\"hello world\")"
   ]
  },
  {
   "cell_type": "code",
   "execution_count": 16,
   "id": "f11ffde9",
   "metadata": {},
   "outputs": [
    {
     "data": {
      "text/plain": [
       "'c:\\\\LLMOPS\\\\Project 2- EcomProdAssistant\\\\ecom-prod-assistant\\\\notebook'"
      ]
     },
     "execution_count": 16,
     "metadata": {},
     "output_type": "execute_result"
    }
   ],
   "source": [
    "import os\n",
    "os.getcwd()"
   ]
  },
  {
   "cell_type": "code",
   "execution_count": 20,
   "id": "a22e7f86",
   "metadata": {},
   "outputs": [],
   "source": [
    "\n",
    "os.chdir('../')"
   ]
  },
  {
   "cell_type": "code",
   "execution_count": 21,
   "id": "e8b2a70d",
   "metadata": {},
   "outputs": [
    {
     "data": {
      "text/plain": [
       "'c:\\\\LLMOPS\\\\Project 2- EcomProdAssistant\\\\ecom-prod-assistant'"
      ]
     },
     "execution_count": 21,
     "metadata": {},
     "output_type": "execute_result"
    }
   ],
   "source": [
    "os.getcwd()"
   ]
  },
  {
   "cell_type": "code",
   "execution_count": null,
   "id": "ae893510",
   "metadata": {},
   "outputs": [
    {
     "name": "stdout",
     "output_type": "stream",
     "text": [
      "['langchain==0.3.27',\n",
      " 'langchain-core==0.3.75',\n",
      " 'langchain-groq==0.3.7',\n",
      " 'langchain-openai==0.3.32',\n",
      " 'ipykernel==6.30.1',\n",
      " 'pandas==2.3.2',\n",
      " 'python-dotenv==1.1.1',\n",
      " 'streamlit==1.49.1']\n"
     ]
    }
   ],
   "source": [
    "import importlib.metadata\n",
    "import os\n",
    "from pprint import pprint\n",
    "\n",
    "packages = []\n",
    "\n",
    "with open('requirements.txt', 'r') as f:\n",
    "    for line in f:\n",
    "        package = line.split('==')[0].strip()\n",
    "        packages.append(package)\n",
    "\n",
    "\n",
    "for i, package in enumerate(packages):\n",
    "    try:\n",
    "        version = importlib.metadata.version(package)\n",
    "        packages[i] = f\"{package}=={version}\"\n",
    "    except importlib.metadata.PackageNotFoundError:\n",
    "        packages[i] = f\"{package} (not installed)\"\n",
    "\n",
    "pprint(packages)\n"
   ]
  },
  {
   "cell_type": "code",
   "execution_count": null,
   "id": "d0dbf9c5",
   "metadata": {},
   "outputs": [],
   "source": []
  }
 ],
 "metadata": {
  "kernelspec": {
   "display_name": "venv_ecom",
   "language": "python",
   "name": "python3"
  },
  "language_info": {
   "codemirror_mode": {
    "name": "ipython",
    "version": 3
   },
   "file_extension": ".py",
   "mimetype": "text/x-python",
   "name": "python",
   "nbconvert_exporter": "python",
   "pygments_lexer": "ipython3",
   "version": "3.10.10"
  }
 },
 "nbformat": 4,
 "nbformat_minor": 5
}
